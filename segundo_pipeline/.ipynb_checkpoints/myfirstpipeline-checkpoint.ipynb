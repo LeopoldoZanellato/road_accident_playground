{
 "cells": [
  {
   "cell_type": "code",
   "execution_count": 49,
   "id": "082051b0-941e-4313-83f6-f69006a38f0c",
   "metadata": {},
   "outputs": [],
   "source": [
    "from google.cloud import aiplatform\n",
    "from kfp import dsl, compiler\n",
    "from kfp.v2.dsl import component\n"
   ]
  },
  {
   "cell_type": "code",
   "execution_count": 50,
   "id": "3c2d1e85-9dc4-47cf-b201-e6616ee28f7f",
   "metadata": {},
   "outputs": [],
   "source": [
    "PROJECT_ID = 'vertexai-457414'\n",
    "REGION = 'us-central1'\n",
    "BUCKET_NAME = 'gs://road_accident//'"
   ]
  },
  {
   "cell_type": "code",
   "execution_count": 51,
   "id": "f44b7ec2-2909-48b2-a5e7-a5e733db0d16",
   "metadata": {},
   "outputs": [],
   "source": [
    "PIPELINE_ROOT = f\"{BUCKET_NAME}/pipelines/\""
   ]
  },
  {
   "cell_type": "code",
   "execution_count": 52,
   "id": "f840a76e-6cb6-4f95-b6e5-5db5206356ca",
   "metadata": {},
   "outputs": [
    {
     "name": "stdout",
     "output_type": "stream",
     "text": [
      "env: PATH=/usr/local/cuda/bin:/opt/conda/bin:/opt/conda/condabin:/usr/local/bin:/usr/bin:/bin:/usr/local/games:/usr/games:/home/jupyter/.local/bin:/home/jupyter/.local/bin:/home/jupyter/.local/bin:/home/jupyter/.local/bin:/home/jupyter/.local/bin:/home/jupyter/.local/bin\n"
     ]
    }
   ],
   "source": [
    "PATH=%env PATH\n",
    "%env PATH={PATH}:/home/jupyter/.local/bin"
   ]
  },
  {
   "cell_type": "code",
   "execution_count": 53,
   "id": "2bec8723-8474-4ede-bf0d-2bcc309d1dc8",
   "metadata": {},
   "outputs": [],
   "source": [
    "@dsl.component(base_image=\"python:3.10\")\n",
    "def add(a: float, b: float) -> float:\n",
    "    return a + b"
   ]
  },
  {
   "cell_type": "code",
   "execution_count": 54,
   "id": "f7dec827-ce6c-4d62-87d1-f5e2ff51d609",
   "metadata": {},
   "outputs": [],
   "source": [
    "@dsl.component(base_image=\"python:3.10\")\n",
    "def multiply(a: float, b: float) -> float:\n",
    "    return a * b"
   ]
  },
  {
   "cell_type": "code",
   "execution_count": 58,
   "id": "b63ce61a-b28b-4517-b689-076cef631865",
   "metadata": {},
   "outputs": [],
   "source": [
    "@dsl.pipeline(name=\"my-first-pipeline\")\n",
    "def add_mul_pipeline(a: float = 3, b: float = 5):\n",
    "    add_task = add(a=a, b=b)\n",
    "    add_task.set_caching_options(False)  # 👈 força re-execução sem cache\n",
    "    _ = multiply(a=add_task.output, b=b)\n",
    "\n",
    "compiler.Compiler().compile(\n",
    "    pipeline_func=add_mul_pipeline,\n",
    "    package_path=\"add_mul_pipeline.json\",\n",
    ")"
   ]
  },
  {
   "cell_type": "code",
   "execution_count": null,
   "id": "cb201900-3e98-433f-aa64-9d20fae809d3",
   "metadata": {},
   "outputs": [],
   "source": []
  },
  {
   "cell_type": "code",
   "execution_count": 59,
   "id": "ad4d6108-048b-4e5e-b0e4-f7b4e49652c4",
   "metadata": {},
   "outputs": [
    {
     "name": "stdout",
     "output_type": "stream",
     "text": [
      "Creating PipelineJob\n",
      "PipelineJob created. Resource name: projects/666534829864/locations/us-central1/pipelineJobs/my-first-pipeline-20251020015845\n",
      "To use this PipelineJob in another session:\n",
      "pipeline_job = aiplatform.PipelineJob.get('projects/666534829864/locations/us-central1/pipelineJobs/my-first-pipeline-20251020015845')\n",
      "View Pipeline Job:\n",
      "https://console.cloud.google.com/vertex-ai/locations/us-central1/pipelines/runs/my-first-pipeline-20251020015845?project=666534829864\n",
      "PipelineJob projects/666534829864/locations/us-central1/pipelineJobs/my-first-pipeline-20251020015845 current state:\n",
      "PipelineState.PIPELINE_STATE_RUNNING\n",
      "PipelineJob projects/666534829864/locations/us-central1/pipelineJobs/my-first-pipeline-20251020015845 current state:\n",
      "PipelineState.PIPELINE_STATE_RUNNING\n",
      "PipelineJob run completed. Resource name: projects/666534829864/locations/us-central1/pipelineJobs/my-first-pipeline-20251020015845\n"
     ]
    }
   ],
   "source": [
    "\n",
    "# Inicializa o Vertex AI\n",
    "aiplatform.init(project=PROJECT_ID, location=REGION)\n",
    "\n",
    "# Cria e executa o job do pipeline\n",
    "job = aiplatform.PipelineJob(\n",
    "    display_name=\"my-second-pipeline\",\n",
    "    template_path=\"add_mul_pipeline.json\",\n",
    "    pipeline_root=\"gs://road_accident/pipelines\",\n",
    "    parameter_values={\"a\": 3, \"b\": 5},\n",
    ")\n",
    "\n",
    "job.run()"
   ]
  },
  {
   "cell_type": "code",
   "execution_count": null,
   "id": "596d7893-e339-49b7-b460-8f97d58c9b2c",
   "metadata": {},
   "outputs": [],
   "source": []
  }
 ],
 "metadata": {
  "environment": {
   "kernel": "roadaccident",
   "name": "workbench-notebooks.m134",
   "type": "gcloud",
   "uri": "us-docker.pkg.dev/deeplearning-platform-release/gcr.io/workbench-notebooks:m134"
  },
  "kernelspec": {
   "display_name": "Python Road Accident (Local)",
   "language": "python",
   "name": "roadaccident"
  },
  "language_info": {
   "codemirror_mode": {
    "name": "ipython",
    "version": 3
   },
   "file_extension": ".py",
   "mimetype": "text/x-python",
   "name": "python",
   "nbconvert_exporter": "python",
   "pygments_lexer": "ipython3",
   "version": "3.9.23"
  }
 },
 "nbformat": 4,
 "nbformat_minor": 5
}
